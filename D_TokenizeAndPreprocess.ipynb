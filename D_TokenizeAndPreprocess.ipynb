{
 "cells": [
  {
   "cell_type": "code",
   "execution_count": 1,
   "id": "733d2cb0",
   "metadata": {},
   "outputs": [],
   "source": [
    "from nltk.corpus.reader.plaintext import PlaintextCorpusReader\n",
    "from nltk.tokenize import word_tokenize\n",
    "from nltk import FreqDist\n",
    "from nltk.corpus import stopwords\n",
    "from collections import Counter"
   ]
  },
  {
   "cell_type": "code",
   "execution_count": 2,
   "id": "84b1749c",
   "metadata": {},
   "outputs": [],
   "source": [
    "corpuspath = 'D:\\\\Personal\\\\Msc\\\\CMM706 Text Analytics\\\\Coursework\\\\unclean_text_data_test\\\\'\n",
    "corpus = PlaintextCorpusReader(corpuspath, '.*')"
   ]
  },
  {
   "cell_type": "code",
   "execution_count": 3,
   "id": "d764b472",
   "metadata": {},
   "outputs": [
    {
     "data": {
      "text/plain": [
       "['5ZXOjh7b8b.051154254863466364.txt',\n",
       " '5ZXOjh7b8b.2600031969558446.txt',\n",
       " '62169873.9745533297000392.txt',\n",
       " '62195691.16437752848229537.txt',\n",
       " '62202318.3073866896543671.txt',\n",
       " '62202367.7023064602847127.txt',\n",
       " '62205961.6667602177826962.txt',\n",
       " '62207492.8958897353426724.txt',\n",
       " '62211362.04299373174225851.txt',\n",
       " '9H9rZwcTHA.6731480092910042.txt',\n",
       " 'AQ38T6Wc8S.4564175745396877.txt',\n",
       " 'PX03ihgCmY.2702831120492002.txt',\n",
       " 'SfpirDTyQX.6894658617056856.txt',\n",
       " 'TEc02CDYWj.16340954010308395.txt',\n",
       " 'p0cmnhz9.0029124590923015337.txt',\n",
       " 'p8Ndnc14Ag.9144407147096637.txt',\n",
       " 'wktTh0nYXM.6218168798805613.txt',\n",
       " 'xVxFBketmg.07293471805575047.txt',\n",
       " 'xVxFBketmg.5472957698674084.txt']"
      ]
     },
     "execution_count": 3,
     "metadata": {},
     "output_type": "execute_result"
    }
   ],
   "source": [
    "len(corpus.words())\n",
    "corpus.fileids()"
   ]
  },
  {
   "cell_type": "code",
   "execution_count": 4,
   "id": "275cd8e4",
   "metadata": {},
   "outputs": [],
   "source": [
    "# corpus()"
   ]
  },
  {
   "cell_type": "code",
   "execution_count": 5,
   "id": "80b3897e",
   "metadata": {},
   "outputs": [
    {
     "name": "stdout",
     "output_type": "stream",
     "text": [
      "Total News Items :  19\n",
      "Total Words :  17703\n",
      "Unique Words :  3202\n",
      "Number of Setences :  754\n"
     ]
    }
   ],
   "source": [
    "no_of_files = len(corpus.fileids())\n",
    "print('Total News Items : ', no_of_files)\n",
    "# Number of words\n",
    "total_words = len(corpus.words())\n",
    "print('Total Words : ', total_words)\n",
    "unique_words=len(set(corpus.words()))\n",
    "print('Unique Words : ', unique_words)\n",
    "number_of_sents=len(corpus.sents())\n",
    "print('Number of Setences : ', number_of_sents)"
   ]
  },
  {
   "cell_type": "code",
   "execution_count": 6,
   "id": "e2e8695b",
   "metadata": {},
   "outputs": [],
   "source": [
    "# for fileid in corpus.fileids():\n",
    "#     print(corpus.raw(fileid))\n",
    "#     print('________')"
   ]
  },
  {
   "cell_type": "code",
   "execution_count": null,
   "id": "079b4b39",
   "metadata": {},
   "outputs": [],
   "source": []
  },
  {
   "cell_type": "code",
   "execution_count": 7,
   "id": "1802d4dd",
   "metadata": {},
   "outputs": [],
   "source": [
    "bag_of_words = set(corpus.words())\n"
   ]
  },
  {
   "cell_type": "code",
   "execution_count": 8,
   "id": "fd656aa8",
   "metadata": {},
   "outputs": [],
   "source": [
    "import re\n",
    "def normalize_corpus(corpus_passed):\n",
    "    \n",
    "    normalized_corpus = []    \n",
    "    for fileid in corpus_passed.fileids():\n",
    "        text = corpus_passed.raw(fileid)\n",
    "        tokenize_text = corpus_passed.words(fileid)\n",
    "        filtered_tokens = []\n",
    "        for token in tokenize_text:\n",
    "            if re.search('[a-zA-Z]', token):\n",
    "                filtered_tokens.append(token)\n",
    "        filtered_text = ' '.join(filtered_tokens)\n",
    "        #text_pattern = r'[a-zA-Z]'\n",
    "        #cleantext2 = re.sub(r'[a-zA-Z]', '', text)\n",
    "        \n",
    "        #print(cleantext2)\n",
    "        normalized_corpus.append(filtered_text)\n",
    "        #print('__________________________________________')\n",
    "    return normalized_corpus"
   ]
  },
  {
   "cell_type": "code",
   "execution_count": 9,
   "id": "b5410e46",
   "metadata": {},
   "outputs": [],
   "source": [
    "from sklearn.feature_extraction.text import CountVectorizer, TfidfVectorizer\n",
    "\n",
    "# We improve our feature matrix builder with 3 additional optional parameters\n",
    "# This allows us to extract not only word features, but also n-gram features\n",
    "# We can also set the minimum and maximum frequencies to be considered as valid\n",
    "# NB: All these are simply passed on to sklearn's Vectorizer classes\n",
    "def build_feature_matrix(documents, feature_type='frequency',\n",
    "                         ngram_range=(1, 1), min_df=0.0, max_df=1.0):\n",
    "\n",
    "    feature_type = feature_type.lower().strip()  \n",
    "    \n",
    "    if feature_type == 'binary':\n",
    "        vectorizer = CountVectorizer(binary=True, min_df=min_df,\n",
    "                                     max_df=max_df, ngram_range=ngram_range)\n",
    "    elif feature_type == 'frequency':\n",
    "        vectorizer = CountVectorizer(binary=False, min_df=min_df,\n",
    "                                     max_df=max_df, ngram_range=ngram_range)\n",
    "    elif feature_type == 'tfidf':\n",
    "        vectorizer = TfidfVectorizer(min_df=min_df, max_df=max_df, \n",
    "                                     ngram_range=ngram_range)\n",
    "    else:\n",
    "        raise Exception(\"Wrong feature type entered. Possible values: 'binary', 'frequency', 'tfidf'\")\n",
    "\n",
    "    feature_matrix = vectorizer.fit_transform(documents).astype(float)\n",
    "    \n",
    "    return vectorizer, feature_matrix"
   ]
  },
  {
   "cell_type": "code",
   "execution_count": 10,
   "id": "8901c16d",
   "metadata": {},
   "outputs": [],
   "source": [
    "normalized_corpus = normalize_corpus(corpus)"
   ]
  },
  {
   "cell_type": "code",
   "execution_count": 11,
   "id": "cdef0c35",
   "metadata": {},
   "outputs": [
    {
     "data": {
      "text/plain": [
       "19"
      ]
     },
     "execution_count": 11,
     "metadata": {},
     "output_type": "execute_result"
    }
   ],
   "source": [
    "len(normalized_corpus)"
   ]
  },
  {
   "cell_type": "code",
   "execution_count": 12,
   "id": "a10a6d12",
   "metadata": {},
   "outputs": [],
   "source": [
    "# from sklearn.model_selection import train_test_split"
   ]
  },
  {
   "cell_type": "code",
   "execution_count": null,
   "id": "118b3e9f",
   "metadata": {},
   "outputs": [],
   "source": []
  },
  {
   "cell_type": "code",
   "execution_count": null,
   "id": "83be8ff4",
   "metadata": {},
   "outputs": [],
   "source": []
  },
  {
   "cell_type": "code",
   "execution_count": 46,
   "id": "83ff4e6c",
   "metadata": {},
   "outputs": [
    {
     "name": "stdout",
     "output_type": "stream",
     "text": [
      "(19, 3009)\n",
      "['100m', '10th', '11th', '12b', '12th', '137km', '147break', '14th', '150th', '155th', '15th', '16th', '18th', '1990s', '1h', '1k', '1m', '1st', '200m', '28k', '3200s', '38m', '3m', '3rd', '400m', '49m', '4x100m', '4x400m', '5k', '5m', '7h', '9h', 'abby', 'ability', 'able', 'abroad', 'absence', 'absolute', 'absolutely', 'academy', 'accept', 'accepted', 'access', 'accessibility', 'accident', 'accommodate', 'account', 'accountants', 'accurate', 'achieve']\n"
     ]
    },
    {
     "name": "stderr",
     "output_type": "stream",
     "text": [
      "D:\\Anaconda3\\lib\\site-packages\\sklearn\\utils\\deprecation.py:87: FutureWarning: Function get_feature_names is deprecated; get_feature_names is deprecated in 1.0 and will be removed in 1.2. Please use get_feature_names_out instead.\n",
      "  warnings.warn(msg, category=FutureWarning)\n"
     ]
    }
   ],
   "source": [
    "normalized_corpus = normalize_corpus(corpus)\n",
    "\n",
    "# Extract (tf-idf) features using out utils library\n",
    "vectorizer, feature_matrix = build_feature_matrix(normalized_corpus,\n",
    "                                                  feature_type='tfidf',\n",
    "                                                  #min_df=0.01, \n",
    "                                                  max_df=0.85,\n",
    "                                                  ngram_range=(1, 1))\n",
    "# How many features do we have?\n",
    "print(feature_matrix.shape)     \n",
    "\n",
    "# Get the names of the features\n",
    "feature_names = vectorizer.get_feature_names()\n",
    "\n",
    "# Show the first twenty features (check more if needed)\n",
    "print(feature_names[:50])"
   ]
  },
  {
   "cell_type": "code",
   "execution_count": 14,
   "id": "f10d02c2",
   "metadata": {},
   "outputs": [],
   "source": [
    "params = vectorizer.get_params()"
   ]
  },
  {
   "cell_type": "code",
   "execution_count": 41,
   "id": "ba6ca68f",
   "metadata": {},
   "outputs": [],
   "source": [
    "# params"
   ]
  },
  {
   "cell_type": "code",
   "execution_count": 16,
   "id": "603d9c0d",
   "metadata": {},
   "outputs": [],
   "source": [
    "from sklearn.cluster import KMeans\n",
    "\n",
    "# Define the k-means clustering function which will call sklearn's KMeans function\n",
    "# with our parameters\n",
    "def k_means(feature_matrix, num_clusters=5):\n",
    "    km = KMeans(n_clusters=num_clusters,\n",
    "                max_iter=10000)\n",
    "    km.fit(feature_matrix)\n",
    "    clusters = km.labels_\n",
    "    return km, clusters"
   ]
  },
  {
   "cell_type": "code",
   "execution_count": 18,
   "id": "7f321eac",
   "metadata": {},
   "outputs": [
    {
     "name": "stdout",
     "output_type": "stream",
     "text": [
      "<class 'scipy.sparse.csr.csr_matrix'>\n"
     ]
    }
   ],
   "source": [
    "print(type(feature_matrix))"
   ]
  },
  {
   "cell_type": "code",
   "execution_count": 19,
   "id": "5cfdd536",
   "metadata": {},
   "outputs": [],
   "source": [
    "num_clusters = 5\n",
    "# Call the above function to get clusters and assign the cluster labels to the movies\n",
    "km_obj, clusters = k_means(feature_matrix=feature_matrix,\n",
    "                           num_clusters=num_clusters)\n",
    "# movie_data['Cluster'] = clusters"
   ]
  },
  {
   "cell_type": "code",
   "execution_count": 22,
   "id": "87685dbd",
   "metadata": {},
   "outputs": [],
   "source": [
    "strtst = '''The 24-year-old won two Dutch titles in three years under Erik ten Hag with Ajax, is their current player of the year and follows the manager to Old Trafford.\n",
    "\n",
    "Despite standing 5ft 9in, he won more aerial duels in the league than Harry Maguire last season and won the ball more times than any United defender.\n",
    "\n",
    "Want to know more about Martinez? Read on.'''"
   ]
  },
  {
   "cell_type": "code",
   "execution_count": 26,
   "id": "3f483df0",
   "metadata": {},
   "outputs": [],
   "source": [
    "import nltk\n",
    "def tokenize_text(text):\n",
    "    sentences = nltk.word_tokenize(text)\n",
    "    #word_tokens = [nltk.word_tokenize(sentence) for sentence in sentences] \n",
    "    return sentences\n",
    "\n",
    "tokenized = tokenize_text(strtst)"
   ]
  },
  {
   "cell_type": "code",
   "execution_count": 42,
   "id": "9577e43e",
   "metadata": {},
   "outputs": [],
   "source": [
    "filtered_text = []\n",
    "for token in tokenized:\n",
    "    \n",
    "    if re.search('[a-zA-Z]', token):\n",
    "        filtered_text.append(token)\n",
    "#filtered_text"
   ]
  },
  {
   "cell_type": "code",
   "execution_count": 56,
   "id": "434ea599",
   "metadata": {},
   "outputs": [
    {
     "data": {
      "text/plain": [
       "<19x3009 sparse matrix of type '<class 'numpy.float64'>'\n",
       "\twith 7004 stored elements in Compressed Sparse Row format>"
      ]
     },
     "execution_count": 56,
     "metadata": {},
     "output_type": "execute_result"
    }
   ],
   "source": [
    "feature_matrix"
   ]
  },
  {
   "cell_type": "code",
   "execution_count": 54,
   "id": "93c395e1",
   "metadata": {},
   "outputs": [],
   "source": [
    "vectorizer2, feature_matrix2 = build_feature_matrix(filtered_text,\n",
    "                                                  feature_type='tfidf',\n",
    "                                                  #min_df=0.01, \n",
    "                                                  max_df=0.85,\n",
    "                                                  ngram_range=(1, 1))"
   ]
  },
  {
   "cell_type": "code",
   "execution_count": 55,
   "id": "f8b50ac6",
   "metadata": {},
   "outputs": [
    {
     "data": {
      "text/plain": [
       "<64x52 sparse matrix of type '<class 'numpy.float64'>'\n",
       "\twith 66 stored elements in Compressed Sparse Row format>"
      ]
     },
     "execution_count": 55,
     "metadata": {},
     "output_type": "execute_result"
    }
   ],
   "source": [
    "feature_matrix2"
   ]
  },
  {
   "cell_type": "code",
   "execution_count": 57,
   "id": "568f7c20",
   "metadata": {},
   "outputs": [
    {
     "ename": "ValueError",
     "evalue": "X has 52 features, but KMeans is expecting 3009 features as input.",
     "output_type": "error",
     "traceback": [
      "\u001b[1;31m---------------------------------------------------------------------------\u001b[0m",
      "\u001b[1;31mValueError\u001b[0m                                Traceback (most recent call last)",
      "Input \u001b[1;32mIn [57]\u001b[0m, in \u001b[0;36m<cell line: 1>\u001b[1;34m()\u001b[0m\n\u001b[1;32m----> 1\u001b[0m \u001b[38;5;28mprint\u001b[39m(\u001b[43mkm_obj\u001b[49m\u001b[38;5;241;43m.\u001b[39;49m\u001b[43mpredict\u001b[49m\u001b[43m(\u001b[49m\u001b[43mfeature_matrix2\u001b[49m\u001b[43m)\u001b[49m)\n",
      "File \u001b[1;32mD:\\Anaconda3\\lib\\site-packages\\sklearn\\cluster\\_kmeans.py:1330\u001b[0m, in \u001b[0;36mKMeans.predict\u001b[1;34m(self, X, sample_weight)\u001b[0m\n\u001b[0;32m   1308\u001b[0m \u001b[38;5;124;03m\"\"\"Predict the closest cluster each sample in X belongs to.\u001b[39;00m\n\u001b[0;32m   1309\u001b[0m \n\u001b[0;32m   1310\u001b[0m \u001b[38;5;124;03mIn the vector quantization literature, `cluster_centers_` is called\u001b[39;00m\n\u001b[1;32m   (...)\u001b[0m\n\u001b[0;32m   1326\u001b[0m \u001b[38;5;124;03m    Index of the cluster each sample belongs to.\u001b[39;00m\n\u001b[0;32m   1327\u001b[0m \u001b[38;5;124;03m\"\"\"\u001b[39;00m\n\u001b[0;32m   1328\u001b[0m check_is_fitted(\u001b[38;5;28mself\u001b[39m)\n\u001b[1;32m-> 1330\u001b[0m X \u001b[38;5;241m=\u001b[39m \u001b[38;5;28;43mself\u001b[39;49m\u001b[38;5;241;43m.\u001b[39;49m\u001b[43m_check_test_data\u001b[49m\u001b[43m(\u001b[49m\u001b[43mX\u001b[49m\u001b[43m)\u001b[49m\n\u001b[0;32m   1331\u001b[0m x_squared_norms \u001b[38;5;241m=\u001b[39m row_norms(X, squared\u001b[38;5;241m=\u001b[39m\u001b[38;5;28;01mTrue\u001b[39;00m)\n\u001b[0;32m   1332\u001b[0m sample_weight \u001b[38;5;241m=\u001b[39m _check_sample_weight(sample_weight, X, dtype\u001b[38;5;241m=\u001b[39mX\u001b[38;5;241m.\u001b[39mdtype)\n",
      "File \u001b[1;32mD:\\Anaconda3\\lib\\site-packages\\sklearn\\cluster\\_kmeans.py:1007\u001b[0m, in \u001b[0;36mKMeans._check_test_data\u001b[1;34m(self, X)\u001b[0m\n\u001b[0;32m   1006\u001b[0m \u001b[38;5;28;01mdef\u001b[39;00m \u001b[38;5;21m_check_test_data\u001b[39m(\u001b[38;5;28mself\u001b[39m, X):\n\u001b[1;32m-> 1007\u001b[0m     X \u001b[38;5;241m=\u001b[39m \u001b[38;5;28;43mself\u001b[39;49m\u001b[38;5;241;43m.\u001b[39;49m\u001b[43m_validate_data\u001b[49m\u001b[43m(\u001b[49m\n\u001b[0;32m   1008\u001b[0m \u001b[43m        \u001b[49m\u001b[43mX\u001b[49m\u001b[43m,\u001b[49m\n\u001b[0;32m   1009\u001b[0m \u001b[43m        \u001b[49m\u001b[43maccept_sparse\u001b[49m\u001b[38;5;241;43m=\u001b[39;49m\u001b[38;5;124;43m\"\u001b[39;49m\u001b[38;5;124;43mcsr\u001b[39;49m\u001b[38;5;124;43m\"\u001b[39;49m\u001b[43m,\u001b[49m\n\u001b[0;32m   1010\u001b[0m \u001b[43m        \u001b[49m\u001b[43mreset\u001b[49m\u001b[38;5;241;43m=\u001b[39;49m\u001b[38;5;28;43;01mFalse\u001b[39;49;00m\u001b[43m,\u001b[49m\n\u001b[0;32m   1011\u001b[0m \u001b[43m        \u001b[49m\u001b[43mdtype\u001b[49m\u001b[38;5;241;43m=\u001b[39;49m\u001b[43m[\u001b[49m\u001b[43mnp\u001b[49m\u001b[38;5;241;43m.\u001b[39;49m\u001b[43mfloat64\u001b[49m\u001b[43m,\u001b[49m\u001b[43m \u001b[49m\u001b[43mnp\u001b[49m\u001b[38;5;241;43m.\u001b[39;49m\u001b[43mfloat32\u001b[49m\u001b[43m]\u001b[49m\u001b[43m,\u001b[49m\n\u001b[0;32m   1012\u001b[0m \u001b[43m        \u001b[49m\u001b[43morder\u001b[49m\u001b[38;5;241;43m=\u001b[39;49m\u001b[38;5;124;43m\"\u001b[39;49m\u001b[38;5;124;43mC\u001b[39;49m\u001b[38;5;124;43m\"\u001b[39;49m\u001b[43m,\u001b[49m\n\u001b[0;32m   1013\u001b[0m \u001b[43m        \u001b[49m\u001b[43maccept_large_sparse\u001b[49m\u001b[38;5;241;43m=\u001b[39;49m\u001b[38;5;28;43;01mFalse\u001b[39;49;00m\u001b[43m,\u001b[49m\n\u001b[0;32m   1014\u001b[0m \u001b[43m    \u001b[49m\u001b[43m)\u001b[49m\n\u001b[0;32m   1015\u001b[0m     \u001b[38;5;28;01mreturn\u001b[39;00m X\n",
      "File \u001b[1;32mD:\\Anaconda3\\lib\\site-packages\\sklearn\\base.py:585\u001b[0m, in \u001b[0;36mBaseEstimator._validate_data\u001b[1;34m(self, X, y, reset, validate_separately, **check_params)\u001b[0m\n\u001b[0;32m    582\u001b[0m     out \u001b[38;5;241m=\u001b[39m X, y\n\u001b[0;32m    584\u001b[0m \u001b[38;5;28;01mif\u001b[39;00m \u001b[38;5;129;01mnot\u001b[39;00m no_val_X \u001b[38;5;129;01mand\u001b[39;00m check_params\u001b[38;5;241m.\u001b[39mget(\u001b[38;5;124m\"\u001b[39m\u001b[38;5;124mensure_2d\u001b[39m\u001b[38;5;124m\"\u001b[39m, \u001b[38;5;28;01mTrue\u001b[39;00m):\n\u001b[1;32m--> 585\u001b[0m     \u001b[38;5;28;43mself\u001b[39;49m\u001b[38;5;241;43m.\u001b[39;49m\u001b[43m_check_n_features\u001b[49m\u001b[43m(\u001b[49m\u001b[43mX\u001b[49m\u001b[43m,\u001b[49m\u001b[43m \u001b[49m\u001b[43mreset\u001b[49m\u001b[38;5;241;43m=\u001b[39;49m\u001b[43mreset\u001b[49m\u001b[43m)\u001b[49m\n\u001b[0;32m    587\u001b[0m \u001b[38;5;28;01mreturn\u001b[39;00m out\n",
      "File \u001b[1;32mD:\\Anaconda3\\lib\\site-packages\\sklearn\\base.py:400\u001b[0m, in \u001b[0;36mBaseEstimator._check_n_features\u001b[1;34m(self, X, reset)\u001b[0m\n\u001b[0;32m    397\u001b[0m     \u001b[38;5;28;01mreturn\u001b[39;00m\n\u001b[0;32m    399\u001b[0m \u001b[38;5;28;01mif\u001b[39;00m n_features \u001b[38;5;241m!=\u001b[39m \u001b[38;5;28mself\u001b[39m\u001b[38;5;241m.\u001b[39mn_features_in_:\n\u001b[1;32m--> 400\u001b[0m     \u001b[38;5;28;01mraise\u001b[39;00m \u001b[38;5;167;01mValueError\u001b[39;00m(\n\u001b[0;32m    401\u001b[0m         \u001b[38;5;124mf\u001b[39m\u001b[38;5;124m\"\u001b[39m\u001b[38;5;124mX has \u001b[39m\u001b[38;5;132;01m{\u001b[39;00mn_features\u001b[38;5;132;01m}\u001b[39;00m\u001b[38;5;124m features, but \u001b[39m\u001b[38;5;132;01m{\u001b[39;00m\u001b[38;5;28mself\u001b[39m\u001b[38;5;241m.\u001b[39m\u001b[38;5;18m__class__\u001b[39m\u001b[38;5;241m.\u001b[39m\u001b[38;5;18m__name__\u001b[39m\u001b[38;5;132;01m}\u001b[39;00m\u001b[38;5;124m \u001b[39m\u001b[38;5;124m\"\u001b[39m\n\u001b[0;32m    402\u001b[0m         \u001b[38;5;124mf\u001b[39m\u001b[38;5;124m\"\u001b[39m\u001b[38;5;124mis expecting \u001b[39m\u001b[38;5;132;01m{\u001b[39;00m\u001b[38;5;28mself\u001b[39m\u001b[38;5;241m.\u001b[39mn_features_in_\u001b[38;5;132;01m}\u001b[39;00m\u001b[38;5;124m features as input.\u001b[39m\u001b[38;5;124m\"\u001b[39m\n\u001b[0;32m    403\u001b[0m     )\n",
      "\u001b[1;31mValueError\u001b[0m: X has 52 features, but KMeans is expecting 3009 features as input."
     ]
    }
   ],
   "source": [
    "print(km_obj.predict(feature_matrix2))"
   ]
  },
  {
   "cell_type": "code",
   "execution_count": null,
   "id": "3b6b1a78",
   "metadata": {},
   "outputs": [],
   "source": []
  },
  {
   "cell_type": "code",
   "execution_count": 25,
   "id": "b0377d50",
   "metadata": {},
   "outputs": [],
   "source": [
    "# Plotting the distortions of K-Means\n",
    "\n",
    "import pandas as pd\n",
    "import numpy as np\n",
    "import matplotlib.pyplot as plt\n",
    "%matplotlib inline \n",
    "\n",
    "distortions = []\n",
    "K = range(,10)\n",
    "# Running K-Means with a range of k\n",
    "for k in K: \n",
    "    km_obj, clusters = k_means(feature_matrix=feature_matrix,\n",
    "                           num_clusters=k)\n",
    "    # inertia_ is the distance from each sample to the centroid.\n",
    "    distortions.append(km_obj.inertia_)"
   ]
  },
  {
   "cell_type": "code",
   "execution_count": 26,
   "id": "4c96ac6b",
   "metadata": {},
   "outputs": [
    {
     "data": {
      "image/png": "[encoded data removed]",
      "text/plain": [
       "<Figure size 1152x576 with 1 Axes>"
      ]
     },
     "metadata": {
      "needs_background": "light"
     },
     "output_type": "display_data"
    }
   ],
   "source": [
    "plt.figure(figsize=(16,8))\n",
    "plt.plot(K, distortions, 'bx-')\n",
    "plt.xlabel('k')\n",
    "plt.ylabel('Distortion')\n",
    "plt.title('The Elbow Method showing the optimal k')\n",
    "plt.show()"
   ]
  },
  {
   "cell_type": "code",
   "execution_count": 21,
   "id": "2b4c9517",
   "metadata": {},
   "outputs": [
    {
     "ename": "NameError",
     "evalue": "name 'km_obj' is not defined",
     "output_type": "error",
     "traceback": [
      "\u001b[1;31m---------------------------------------------------------------------------\u001b[0m",
      "\u001b[1;31mNameError\u001b[0m                                 Traceback (most recent call last)",
      "Input \u001b[1;32mIn [21]\u001b[0m, in \u001b[0;36m<cell line: 1>\u001b[1;34m()\u001b[0m\n\u001b[1;32m----> 1\u001b[0m \u001b[43mkm_obj\u001b[49m\n",
      "\u001b[1;31mNameError\u001b[0m: name 'km_obj' is not defined"
     ]
    }
   ],
   "source": [
    "km_obj"
   ]
  },
  {
   "cell_type": "code",
   "execution_count": null,
   "id": "d75cc80f",
   "metadata": {},
   "outputs": [],
   "source": []
  },
  {
   "cell_type": "code",
   "execution_count": null,
   "id": "f501caf2",
   "metadata": {},
   "outputs": [],
   "source": []
  },
  {
   "cell_type": "code",
   "execution_count": null,
   "id": "4c201f88",
   "metadata": {},
   "outputs": [],
   "source": []
  },
  {
   "cell_type": "code",
   "execution_count": null,
   "id": "6b691a00",
   "metadata": {},
   "outputs": [],
   "source": []
  }
 ],
 "metadata": {
  "kernelspec": {
   "display_name": "Python 3 (ipykernel)",
   "language": "python",
   "name": "python3"
  },
  "language_info": {
   "codemirror_mode": {
    "name": "ipython",
    "version": 3
   },
   "file_extension": ".py",
   "mimetype": "text/x-python",
   "name": "python",
   "nbconvert_exporter": "python",
   "pygments_lexer": "ipython3",
   "version": "3.9.12"
  }
 },
 "nbformat": 4,
 "nbformat_minor": 5
}
