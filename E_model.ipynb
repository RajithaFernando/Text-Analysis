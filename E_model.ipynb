{
 "cells": [
  {
   "cell_type": "code",
   "execution_count": 1,
   "id": "68353d11",
   "metadata": {},
   "outputs": [],
   "source": [
    "from nltk.corpus.reader.plaintext import PlaintextCorpusReader\n",
    "from nltk.tokenize import word_tokenize\n",
    "from nltk import FreqDist\n",
    "from nltk.corpus import stopwords\n",
    "from collections import Counter"
   ]
  },
  {
   "cell_type": "code",
   "execution_count": 2,
   "id": "75852b36",
   "metadata": {},
   "outputs": [],
   "source": [
    "corpuspath = 'D:\\\\Personal\\\\Msc\\\\CMM706 Text Analytics\\\\Coursework\\\\unclean_text_data_test\\\\'\n",
    "corpus = PlaintextCorpusReader(corpuspath, '.*' , )"
   ]
  },
  {
   "cell_type": "code",
   "execution_count": null,
   "id": "d817674b",
   "metadata": {},
   "outputs": [],
   "source": []
  },
  {
   "cell_type": "code",
   "execution_count": null,
   "id": "dcce8cae",
   "metadata": {},
   "outputs": [],
   "source": []
  },
  {
   "cell_type": "code",
   "execution_count": null,
   "id": "a465e246",
   "metadata": {},
   "outputs": [],
   "source": []
  },
  {
   "cell_type": "code",
   "execution_count": 3,
   "id": "f4cd2daa",
   "metadata": {},
   "outputs": [],
   "source": [
    "import re\n",
    "def normalize_corpus(corpus_passed):\n",
    "    counter = 0\n",
    "    document_keys = {}\n",
    "    normalized_corpus = []    \n",
    "    for fileid in corpus_passed.fileids():\n",
    "        text = corpus_passed.raw(fileid)\n",
    "        tokenize_text = corpus_passed.words(fileid)\n",
    "        filtered_tokens = []\n",
    "        filtered_text = ' '.join(filtered_tokens)\n",
    "        # Saving Key for document\n",
    "        \n",
    "        #text_pattern = r'[a-zA-Z]'\n",
    "        #cleantext2 = re.sub(r'[a-zA-Z]', '', text)\n",
    "        \n",
    "        #print(cleantext2)\n",
    "        normalized_corpus.append(filtered_text)\n",
    "        document_keys[counter] =  fileid\n",
    "        counter = counter + 1\n",
    "        #print('__________________________________________')\n",
    "    return normalized_corpus , document_keys"
   ]
  },
  {
   "cell_type": "code",
   "execution_count": null,
   "id": "edbd47b9",
   "metadata": {},
   "outputs": [],
   "source": [
    "Sparsity"
   ]
  },
  {
   "cell_type": "code",
   "execution_count": 46,
   "id": "07ed838d",
   "metadata": {},
   "outputs": [],
   "source": [
    "from sklearn.feature_extraction.text import CountVectorizer, TfidfVectorizer\n",
    "# from gensim.test.utils import common_texts, get_tmpfile\n",
    "#from gensim.models import Word2Vec\n",
    "# We improve our feature matrix builder with 3 additional optional parameters\n",
    "# This allows us to extract not only word features, but also n-gram features\n",
    "# We can also set the minimum and maximum frequencies to be considered as valid\n",
    "# NB: All these are simply passed on to sklearn's Vectorizer classes\n",
    "def build_feature_matrix(documents, feature_type='frequency', ngram_range=(1, 1), min_df=0.01, max_df=0.85):\n",
    "    # max_df = 0.50 means \"ignore terms that appear in more than 50% of the documents\".\n",
    "    # max_df = 25 means \"ignore terms that appear in more than 25 documents\".\n",
    "    # default max_df is 1.0, which means \"ignore terms that appear in more than 100% of the documents\". \n",
    "    # Thus, the default setting does not ignore any terms.\n",
    "    \n",
    "    # min_df = 0.01 means \"ignore terms that appear in less than 1% of the documents\".\n",
    "    # min_df = 5 means \"ignore terms that appear in less than 5 documents\".\n",
    "    # default min_df is 1, which means \"ignore terms that appear in less than 1 document\". \n",
    "    # Thus, the default setting does not ignore any terms.\n",
    "    \n",
    "    # We are setting max df to 85%\n",
    "\n",
    "    feature_type = feature_type.lower().strip()  \n",
    "    \n",
    "    if feature_type == 'binary':\n",
    "        vectorizer = CountVectorizer(binary=True, min_df=min_df,\n",
    "                                     max_df=max_df, ngram_range=ngram_range)\n",
    "    elif feature_type == 'frequency':\n",
    "        vectorizer = CountVectorizer(binary=False, min_df=min_df,\n",
    "                                     max_df=max_df, ngram_range=ngram_range)\n",
    "    elif feature_type == 'tfidf':\n",
    "        vectorizer = TfidfVectorizer( ngram_range=ngram_range)\n",
    "    elif feature_type =='word2vec' :\n",
    "        vectorizer = TfidfVectorizer(min_df=min_df, max_df=max_df, \n",
    "                                 ngram_range=ngram_range)\n",
    "    else:\n",
    "        raise Exception(\"Wrong feature type entered. Possible values: 'binary', 'frequency', 'tfidf'\")\n",
    "\n",
    "    feature_matrix = vectorizer.fit_transform(documents).astype(float)\n",
    "    \n",
    "    return vectorizer, feature_matrix"
   ]
  },
  {
   "cell_type": "code",
   "execution_count": 47,
   "id": "d97dd4fd",
   "metadata": {},
   "outputs": [],
   "source": [
    "# build_feature_matrix(['I have a dream', 'go to hell'])"
   ]
  },
  {
   "cell_type": "code",
   "execution_count": 50,
   "id": "a0fc9f14",
   "metadata": {},
   "outputs": [],
   "source": [
    "normalized_corpus, row_id_keys = normalize_corpus(corpus)\n",
    "\n",
    "# Extract (tf-idf) features using out utils library\n",
    "tfidf_vectorizer, tfidf_feature_matrix = build_feature_matrix(normalized_corpus,\n",
    "                                                  feature_type='tfidf',\n",
    "                                                  #min_df=0.01, \n",
    "                                                  max_df=0.85,\n",
    "                                                  ngram_range=(1, 1))"
   ]
  },
  {
   "cell_type": "code",
   "execution_count": 30,
   "id": "4ad11814",
   "metadata": {},
   "outputs": [],
   "source": [
    "new_doc = ['loving FUck this blue sky today']"
   ]
  },
  {
   "cell_type": "code",
   "execution_count": null,
   "id": "57caaf20",
   "metadata": {},
   "outputs": [],
   "source": []
  },
  {
   "cell_type": "code",
   "execution_count": 32,
   "id": "e9126afb",
   "metadata": {},
   "outputs": [
    {
     "data": {
      "text/plain": [
       "['blue', 'fuck', 'loving', 'sky', 'this', 'today']"
      ]
     },
     "execution_count": 32,
     "metadata": {},
     "output_type": "execute_result"
    }
   ],
   "source": [
    "v.get_feature_names()"
   ]
  },
  {
   "cell_type": "code",
   "execution_count": null,
   "id": "b7b7faa4",
   "metadata": {},
   "outputs": [],
   "source": []
  },
  {
   "cell_type": "code",
   "execution_count": null,
   "id": "66f2d78e",
   "metadata": {},
   "outputs": [],
   "source": []
  },
  {
   "cell_type": "code",
   "execution_count": null,
   "id": "fab60030",
   "metadata": {},
   "outputs": [],
   "source": []
  },
  {
   "cell_type": "code",
   "execution_count": 6,
   "id": "6bb1358d",
   "metadata": {},
   "outputs": [],
   "source": [
    "binary_vectorizer, binary_feature_matrix = build_feature_matrix(normalized_corpus,\n",
    "                                                  feature_type='binary',\n",
    "                                                  #min_df=0.01, \n",
    "                                                  max_df=0.85,\n",
    "                                                  ngram_range=(1, 1))"
   ]
  },
  {
   "cell_type": "code",
   "execution_count": 33,
   "id": "af24421d",
   "metadata": {},
   "outputs": [],
   "source": [
    "train_feature_matrix = tfidf_feature_matrix[:40]\n",
    "test_feature_matrix = tfidf_feature_matrix[40:]\n"
   ]
  },
  {
   "cell_type": "code",
   "execution_count": 34,
   "id": "f1914294",
   "metadata": {},
   "outputs": [],
   "source": [
    "from sklearn.cluster import KMeans\n",
    "\n",
    "# Define the k-means clustering function which will call sklearn's KMeans function\n",
    "# with our parameters\n",
    "def k_means(feature_matrix, num_clusters):\n",
    "    km = KMeans(n_clusters=num_clusters,\n",
    "                max_iter=10000)\n",
    "    km.fit(feature_matrix)\n",
    "    clusters = km.labels_\n",
    "    return km, clusters"
   ]
  },
  {
   "cell_type": "code",
   "execution_count": null,
   "id": "1f79b3c3",
   "metadata": {},
   "outputs": [],
   "source": [
    "\n"
   ]
  },
  {
   "cell_type": "code",
   "execution_count": 35,
   "id": "e0f6d02b",
   "metadata": {},
   "outputs": [
    {
     "data": {
      "text/plain": [
       "'3B9wLEPpb4.11331682998371562.txt'"
      ]
     },
     "execution_count": 35,
     "metadata": {},
     "output_type": "execute_result"
    }
   ],
   "source": [
    "corpus.fileids()[5]"
   ]
  },
  {
   "cell_type": "code",
   "execution_count": 36,
   "id": "ee6701d2",
   "metadata": {},
   "outputs": [],
   "source": [
    "#!!!!!!!!!!!!!!!!!!!!!!!!! IMPORTNT\n",
    "# corpus.fileids()[5]\n",
    "# # '5ZXOjh7b8b.051154254863466364.txt'\n",
    "# txt = corpus.raw('5ZXOjh7b8b.051154254863466364.txt')\n",
    "# vectorized=tfidf_vectorizer.fit_transform(corpus.words('5ZXOjh7b8b.051154254863466364.txt'))\n",
    "# num_samples, num_features=vectorized.shape "
   ]
  },
  {
   "cell_type": "code",
   "execution_count": 120,
   "id": "bacc0d2f",
   "metadata": {},
   "outputs": [
    {
     "name": "stdout",
     "output_type": "stream",
     "text": [
      "(61, 4188)\n",
      "['0d9lb41kwa', '10m', '10th', '11bq3eiy6i', '11th', '12th', '13th', '14th', '150th', '15th', '16th', '17th', '18th', '1970s', '1h', '1m', '1st', '20m', '21st', '26th', '2h', '2nd', '2sinrgotuf', '3ice', '3m', '3rd', '3s', '55m', '57m', '5m', '60s', '70s', '75m', '76ers', '7t0p0r8pyr', '83e6vwhwop', '8m', '8u7cea6fm1', '90s', '9gem', '9m', 'aa', 'abc', 'abe', 'abide', 'aboard', 'about', 'above', 'absence', 'absorbed']\n"
     ]
    },
    {
     "name": "stderr",
     "output_type": "stream",
     "text": [
      "D:\\Anaconda3\\lib\\site-packages\\sklearn\\utils\\deprecation.py:87: FutureWarning: Function get_feature_names is deprecated; get_feature_names is deprecated in 1.0 and will be removed in 1.2. Please use get_feature_names_out instead.\n",
      "  warnings.warn(msg, category=FutureWarning)\n"
     ]
    }
   ],
   "source": [
    "print(tfidf_feature_matrix.shape)     \n",
    "\n",
    "# Get the names of the features\n",
    "feature_names = tfidf_vectorizer.get_feature_names()\n",
    "\n",
    "# Show the first twenty features (check more if needed)\n",
    "print(feature_names[:50])"
   ]
  },
  {
   "cell_type": "code",
   "execution_count": null,
   "id": "213cd8af",
   "metadata": {},
   "outputs": [],
   "source": []
  },
  {
   "cell_type": "code",
   "execution_count": null,
   "id": "4d736cf0",
   "metadata": {},
   "outputs": [],
   "source": []
  },
  {
   "cell_type": "code",
   "execution_count": 38,
   "id": "979f4ad5",
   "metadata": {},
   "outputs": [],
   "source": [
    "from sklearn.cluster import KMeans\n",
    "\n",
    "# Define the k-means clustering function which will call sklearn's KMeans function\n",
    "# with our parameters\n",
    "def k_means(feature_matrix, num_clusters=5):\n",
    "    km = KMeans(n_clusters=num_clusters,\n",
    "                max_iter=10000)\n",
    "    km.fit(feature_matrix)\n",
    "    clusters = km.labels_\n",
    "    return km, clusters"
   ]
  },
  {
   "cell_type": "code",
   "execution_count": 39,
   "id": "7a48d85a",
   "metadata": {},
   "outputs": [],
   "source": [
    "distortions = []\n",
    "K = range(1,10)\n",
    "# Running K-Means with a range of k\n",
    "for k in K: \n",
    "    km_obj, clusters = k_means(feature_matrix=train_feature_matrix,\n",
    "                           num_clusters=k)\n",
    "    # inertia_ is the distance from each sample to the centroid.\n",
    "    distortions.append(km_obj.inertia_)"
   ]
  },
  {
   "cell_type": "code",
   "execution_count": 40,
   "id": "761c558a",
   "metadata": {},
   "outputs": [
    {
     "data": {
      "image/png": "[encoded data removed]",
      "text/plain": [
       "<Figure size 1152x576 with 1 Axes>"
      ]
     },
     "metadata": {
      "needs_background": "light"
     },
     "output_type": "display_data"
    }
   ],
   "source": [
    "import pandas as pd\n",
    "import numpy as np\n",
    "import matplotlib.pyplot as plt\n",
    "\n",
    "plt.figure(figsize=(16,8))\n",
    "plt.plot(K, distortions, 'bx-')\n",
    "plt.xlabel('k')\n",
    "plt.ylabel('Distortion')\n",
    "plt.title('The Elbow Method showing the optimal k')\n",
    "plt.show()"
   ]
  },
  {
   "cell_type": "code",
   "execution_count": 41,
   "id": "29b2a5d1",
   "metadata": {},
   "outputs": [],
   "source": [
    "kmeanModel, clusters = k_means(feature_matrix=train_feature_matrix,\n",
    "                           num_clusters=2)"
   ]
  },
  {
   "cell_type": "code",
   "execution_count": 76,
   "id": "dd5cc970",
   "metadata": {},
   "outputs": [
    {
     "data": {
      "text/plain": [
       "1"
      ]
     },
     "execution_count": 76,
     "metadata": {},
     "output_type": "execute_result"
    }
   ],
   "source": [
    "km_obj.predict(test_feature_matrix[0])[0]"
   ]
  },
  {
   "cell_type": "code",
   "execution_count": 87,
   "id": "c7a64b63",
   "metadata": {},
   "outputs": [],
   "source": [
    "key_df = pd.DataFrame(row_id_keys.items())\n"
   ]
  },
  {
   "cell_type": "code",
   "execution_count": 88,
   "id": "e1a39d06",
   "metadata": {},
   "outputs": [],
   "source": [
    "test_key_df=key_df[40:]"
   ]
  },
  {
   "cell_type": "code",
   "execution_count": 94,
   "id": "86ffc0bc",
   "metadata": {},
   "outputs": [
    {
     "data": {
      "text/html": [
       "<div>\n",
       "<style scoped>\n",
       "    .dataframe tbody tr th:only-of-type {\n",
       "        vertical-align: middle;\n",
       "    }\n",
       "\n",
       "    .dataframe tbody tr th {\n",
       "        vertical-align: top;\n",
       "    }\n",
       "\n",
       "    .dataframe thead th {\n",
       "        text-align: right;\n",
       "    }\n",
       "</style>\n",
       "<table border=\"1\" class=\"dataframe\">\n",
       "  <thead>\n",
       "    <tr style=\"text-align: right;\">\n",
       "      <th></th>\n",
       "      <th>key</th>\n",
       "      <th>filename</th>\n",
       "    </tr>\n",
       "  </thead>\n",
       "  <tbody>\n",
       "    <tr>\n",
       "      <th>40</th>\n",
       "      <td>40</td>\n",
       "      <td>jiTmYb7pPM.7937506604855339.txt</td>\n",
       "    </tr>\n",
       "    <tr>\n",
       "      <th>41</th>\n",
       "      <td>41</td>\n",
       "      <td>juE9npQetZ.5163804793372522.txt</td>\n",
       "    </tr>\n",
       "    <tr>\n",
       "      <th>42</th>\n",
       "      <td>42</td>\n",
       "      <td>kr2ybHdzaR.9232864911517599.txt</td>\n",
       "    </tr>\n",
       "    <tr>\n",
       "      <th>43</th>\n",
       "      <td>43</td>\n",
       "      <td>lDgbs8m1tf.08676825930990162.txt</td>\n",
       "    </tr>\n",
       "    <tr>\n",
       "      <th>44</th>\n",
       "      <td>44</td>\n",
       "      <td>lR1GLF0dl3.9833018883394823.txt</td>\n",
       "    </tr>\n",
       "    <tr>\n",
       "      <th>45</th>\n",
       "      <td>45</td>\n",
       "      <td>lZdgCU6d1U.12307985178981151.txt</td>\n",
       "    </tr>\n",
       "    <tr>\n",
       "      <th>46</th>\n",
       "      <td>46</td>\n",
       "      <td>lsKjqDEeir.4889217778570776.txt</td>\n",
       "    </tr>\n",
       "    <tr>\n",
       "      <th>47</th>\n",
       "      <td>47</td>\n",
       "      <td>m0xVYqvN8d.7758863033939478.txt</td>\n",
       "    </tr>\n",
       "    <tr>\n",
       "      <th>48</th>\n",
       "      <td>48</td>\n",
       "      <td>npow2gShDJ.7019849575646654.txt</td>\n",
       "    </tr>\n",
       "    <tr>\n",
       "      <th>49</th>\n",
       "      <td>49</td>\n",
       "      <td>p8IbJYSXxE.22562450196421968.txt</td>\n",
       "    </tr>\n",
       "    <tr>\n",
       "      <th>50</th>\n",
       "      <td>50</td>\n",
       "      <td>rxt3ocjppG.7973298407205462.txt</td>\n",
       "    </tr>\n",
       "    <tr>\n",
       "      <th>51</th>\n",
       "      <td>51</td>\n",
       "      <td>sGN3CBtN8o.35422772005643977.txt</td>\n",
       "    </tr>\n",
       "    <tr>\n",
       "      <th>52</th>\n",
       "      <td>52</td>\n",
       "      <td>sHMzQdloFS.2681163681335329.txt</td>\n",
       "    </tr>\n",
       "    <tr>\n",
       "      <th>53</th>\n",
       "      <td>53</td>\n",
       "      <td>tiMS4ch5zy.0033628833141092773.txt</td>\n",
       "    </tr>\n",
       "    <tr>\n",
       "      <th>54</th>\n",
       "      <td>54</td>\n",
       "      <td>vNPTbjqdSJ.7197300852931762.txt</td>\n",
       "    </tr>\n",
       "    <tr>\n",
       "      <th>55</th>\n",
       "      <td>55</td>\n",
       "      <td>vPSU9hwW5E.2173308100445802.txt</td>\n",
       "    </tr>\n",
       "    <tr>\n",
       "      <th>56</th>\n",
       "      <td>56</td>\n",
       "      <td>wZyhwhK1Oa.6182611089275415.txt</td>\n",
       "    </tr>\n",
       "    <tr>\n",
       "      <th>57</th>\n",
       "      <td>57</td>\n",
       "      <td>ySljWqQVmz.9326708723080476.txt</td>\n",
       "    </tr>\n",
       "    <tr>\n",
       "      <th>58</th>\n",
       "      <td>58</td>\n",
       "      <td>ygDG6ZzZ8T.25798542132023394.txt</td>\n",
       "    </tr>\n",
       "    <tr>\n",
       "      <th>59</th>\n",
       "      <td>59</td>\n",
       "      <td>z6qfxfW6F4.4237818575016189.txt</td>\n",
       "    </tr>\n",
       "    <tr>\n",
       "      <th>60</th>\n",
       "      <td>60</td>\n",
       "      <td>zu5R84I8ST.7841470681049597.txt</td>\n",
       "    </tr>\n",
       "  </tbody>\n",
       "</table>\n",
       "</div>"
      ],
      "text/plain": [
       "    key                            filename\n",
       "40   40     jiTmYb7pPM.7937506604855339.txt\n",
       "41   41     juE9npQetZ.5163804793372522.txt\n",
       "42   42     kr2ybHdzaR.9232864911517599.txt\n",
       "43   43    lDgbs8m1tf.08676825930990162.txt\n",
       "44   44     lR1GLF0dl3.9833018883394823.txt\n",
       "45   45    lZdgCU6d1U.12307985178981151.txt\n",
       "46   46     lsKjqDEeir.4889217778570776.txt\n",
       "47   47     m0xVYqvN8d.7758863033939478.txt\n",
       "48   48     npow2gShDJ.7019849575646654.txt\n",
       "49   49    p8IbJYSXxE.22562450196421968.txt\n",
       "50   50     rxt3ocjppG.7973298407205462.txt\n",
       "51   51    sGN3CBtN8o.35422772005643977.txt\n",
       "52   52     sHMzQdloFS.2681163681335329.txt\n",
       "53   53  tiMS4ch5zy.0033628833141092773.txt\n",
       "54   54     vNPTbjqdSJ.7197300852931762.txt\n",
       "55   55     vPSU9hwW5E.2173308100445802.txt\n",
       "56   56     wZyhwhK1Oa.6182611089275415.txt\n",
       "57   57     ySljWqQVmz.9326708723080476.txt\n",
       "58   58    ygDG6ZzZ8T.25798542132023394.txt\n",
       "59   59     z6qfxfW6F4.4237818575016189.txt\n",
       "60   60     zu5R84I8ST.7841470681049597.txt"
      ]
     },
     "execution_count": 94,
     "metadata": {},
     "output_type": "execute_result"
    }
   ],
   "source": [
    "test_key_df"
   ]
  },
  {
   "cell_type": "code",
   "execution_count": 101,
   "id": "655ba6dc",
   "metadata": {},
   "outputs": [
    {
     "data": {
      "text/html": [
       "<div>\n",
       "<style scoped>\n",
       "    .dataframe tbody tr th:only-of-type {\n",
       "        vertical-align: middle;\n",
       "    }\n",
       "\n",
       "    .dataframe tbody tr th {\n",
       "        vertical-align: top;\n",
       "    }\n",
       "\n",
       "    .dataframe thead th {\n",
       "        text-align: right;\n",
       "    }\n",
       "</style>\n",
       "<table border=\"1\" class=\"dataframe\">\n",
       "  <thead>\n",
       "    <tr style=\"text-align: right;\">\n",
       "      <th></th>\n",
       "      <th>key</th>\n",
       "      <th>filename</th>\n",
       "    </tr>\n",
       "  </thead>\n",
       "  <tbody>\n",
       "    <tr>\n",
       "      <th>40</th>\n",
       "      <td>40</td>\n",
       "      <td>jiTmYb7pPM.7937506604855339.txt</td>\n",
       "    </tr>\n",
       "    <tr>\n",
       "      <th>41</th>\n",
       "      <td>41</td>\n",
       "      <td>juE9npQetZ.5163804793372522.txt</td>\n",
       "    </tr>\n",
       "    <tr>\n",
       "      <th>42</th>\n",
       "      <td>42</td>\n",
       "      <td>kr2ybHdzaR.9232864911517599.txt</td>\n",
       "    </tr>\n",
       "    <tr>\n",
       "      <th>43</th>\n",
       "      <td>43</td>\n",
       "      <td>lDgbs8m1tf.08676825930990162.txt</td>\n",
       "    </tr>\n",
       "    <tr>\n",
       "      <th>44</th>\n",
       "      <td>44</td>\n",
       "      <td>lR1GLF0dl3.9833018883394823.txt</td>\n",
       "    </tr>\n",
       "    <tr>\n",
       "      <th>45</th>\n",
       "      <td>45</td>\n",
       "      <td>lZdgCU6d1U.12307985178981151.txt</td>\n",
       "    </tr>\n",
       "    <tr>\n",
       "      <th>46</th>\n",
       "      <td>46</td>\n",
       "      <td>lsKjqDEeir.4889217778570776.txt</td>\n",
       "    </tr>\n",
       "    <tr>\n",
       "      <th>47</th>\n",
       "      <td>47</td>\n",
       "      <td>m0xVYqvN8d.7758863033939478.txt</td>\n",
       "    </tr>\n",
       "    <tr>\n",
       "      <th>48</th>\n",
       "      <td>48</td>\n",
       "      <td>npow2gShDJ.7019849575646654.txt</td>\n",
       "    </tr>\n",
       "    <tr>\n",
       "      <th>49</th>\n",
       "      <td>49</td>\n",
       "      <td>p8IbJYSXxE.22562450196421968.txt</td>\n",
       "    </tr>\n",
       "    <tr>\n",
       "      <th>50</th>\n",
       "      <td>50</td>\n",
       "      <td>rxt3ocjppG.7973298407205462.txt</td>\n",
       "    </tr>\n",
       "    <tr>\n",
       "      <th>51</th>\n",
       "      <td>51</td>\n",
       "      <td>sGN3CBtN8o.35422772005643977.txt</td>\n",
       "    </tr>\n",
       "    <tr>\n",
       "      <th>52</th>\n",
       "      <td>52</td>\n",
       "      <td>sHMzQdloFS.2681163681335329.txt</td>\n",
       "    </tr>\n",
       "    <tr>\n",
       "      <th>53</th>\n",
       "      <td>53</td>\n",
       "      <td>tiMS4ch5zy.0033628833141092773.txt</td>\n",
       "    </tr>\n",
       "    <tr>\n",
       "      <th>54</th>\n",
       "      <td>54</td>\n",
       "      <td>vNPTbjqdSJ.7197300852931762.txt</td>\n",
       "    </tr>\n",
       "    <tr>\n",
       "      <th>55</th>\n",
       "      <td>55</td>\n",
       "      <td>vPSU9hwW5E.2173308100445802.txt</td>\n",
       "    </tr>\n",
       "    <tr>\n",
       "      <th>56</th>\n",
       "      <td>56</td>\n",
       "      <td>wZyhwhK1Oa.6182611089275415.txt</td>\n",
       "    </tr>\n",
       "    <tr>\n",
       "      <th>57</th>\n",
       "      <td>57</td>\n",
       "      <td>ySljWqQVmz.9326708723080476.txt</td>\n",
       "    </tr>\n",
       "    <tr>\n",
       "      <th>58</th>\n",
       "      <td>58</td>\n",
       "      <td>ygDG6ZzZ8T.25798542132023394.txt</td>\n",
       "    </tr>\n",
       "    <tr>\n",
       "      <th>59</th>\n",
       "      <td>59</td>\n",
       "      <td>z6qfxfW6F4.4237818575016189.txt</td>\n",
       "    </tr>\n",
       "    <tr>\n",
       "      <th>60</th>\n",
       "      <td>60</td>\n",
       "      <td>zu5R84I8ST.7841470681049597.txt</td>\n",
       "    </tr>\n",
       "  </tbody>\n",
       "</table>\n",
       "</div>"
      ],
      "text/plain": [
       "    key                            filename\n",
       "40   40     jiTmYb7pPM.7937506604855339.txt\n",
       "41   41     juE9npQetZ.5163804793372522.txt\n",
       "42   42     kr2ybHdzaR.9232864911517599.txt\n",
       "43   43    lDgbs8m1tf.08676825930990162.txt\n",
       "44   44     lR1GLF0dl3.9833018883394823.txt\n",
       "45   45    lZdgCU6d1U.12307985178981151.txt\n",
       "46   46     lsKjqDEeir.4889217778570776.txt\n",
       "47   47     m0xVYqvN8d.7758863033939478.txt\n",
       "48   48     npow2gShDJ.7019849575646654.txt\n",
       "49   49    p8IbJYSXxE.22562450196421968.txt\n",
       "50   50     rxt3ocjppG.7973298407205462.txt\n",
       "51   51    sGN3CBtN8o.35422772005643977.txt\n",
       "52   52     sHMzQdloFS.2681163681335329.txt\n",
       "53   53  tiMS4ch5zy.0033628833141092773.txt\n",
       "54   54     vNPTbjqdSJ.7197300852931762.txt\n",
       "55   55     vPSU9hwW5E.2173308100445802.txt\n",
       "56   56     wZyhwhK1Oa.6182611089275415.txt\n",
       "57   57     ySljWqQVmz.9326708723080476.txt\n",
       "58   58    ygDG6ZzZ8T.25798542132023394.txt\n",
       "59   59     z6qfxfW6F4.4237818575016189.txt\n",
       "60   60     zu5R84I8ST.7841470681049597.txt"
      ]
     },
     "execution_count": 101,
     "metadata": {},
     "output_type": "execute_result"
    }
   ],
   "source": [
    "test_key_df.columns = ['key', 'filename']\n",
    "test_key_df"
   ]
  },
  {
   "cell_type": "code",
   "execution_count": 93,
   "id": "2ed84d4a",
   "metadata": {},
   "outputs": [
    {
     "data": {
      "text/plain": [
       "<21x4188 sparse matrix of type '<class 'numpy.float64'>'\n",
       "\twith 5206 stored elements in Compressed Sparse Row format>"
      ]
     },
     "execution_count": 93,
     "metadata": {},
     "output_type": "execute_result"
    }
   ],
   "source": [
    "test_feature_matrix"
   ]
  },
  {
   "cell_type": "code",
   "execution_count": 121,
   "id": "3ad5e952",
   "metadata": {},
   "outputs": [
    {
     "name": "stdout",
     "output_type": "stream",
     "text": [
      "jiTmYb7pPM.7937506604855339.txt\n",
      "juE9npQetZ.5163804793372522.txt\n",
      "kr2ybHdzaR.9232864911517599.txt\n",
      "lDgbs8m1tf.08676825930990162.txt\n",
      "lR1GLF0dl3.9833018883394823.txt\n",
      "lZdgCU6d1U.12307985178981151.txt\n",
      "lsKjqDEeir.4889217778570776.txt\n",
      "m0xVYqvN8d.7758863033939478.txt\n",
      "npow2gShDJ.7019849575646654.txt\n",
      "p8IbJYSXxE.22562450196421968.txt\n",
      "rxt3ocjppG.7973298407205462.txt\n",
      "sGN3CBtN8o.35422772005643977.txt\n",
      "sHMzQdloFS.2681163681335329.txt\n",
      "tiMS4ch5zy.0033628833141092773.txt\n",
      "vNPTbjqdSJ.7197300852931762.txt\n",
      "vPSU9hwW5E.2173308100445802.txt\n",
      "wZyhwhK1Oa.6182611089275415.txt\n",
      "ySljWqQVmz.9326708723080476.txt\n",
      "ygDG6ZzZ8T.25798542132023394.txt\n",
      "z6qfxfW6F4.4237818575016189.txt\n",
      "zu5R84I8ST.7841470681049597.txt\n"
     ]
    }
   ],
   "source": [
    "# Apen\n",
    "for index, row in test_key_df.iterrows():\n",
    "    key = int(row['key']) - 39\n",
    "    \n",
    "    #print(index , key)\n",
    "    print(row['filename'])\n",
    "#     test_key_df.loc[test_key_df.index[key], 'normalized_text'] = normalized_corpus[key + 39]\n",
    "#     test_key_df.loc[test_key_df.index[key], 'predicted_group'] = km_obj.predict(tfidf_feature_matrix[key])[0]\n",
    "    "
   ]
  },
  {
   "cell_type": "code",
   "execution_count": 119,
   "id": "9989e2c4",
   "metadata": {},
   "outputs": [
    {
     "data": {
      "text/html": [
       "<div>\n",
       "<style scoped>\n",
       "    .dataframe tbody tr th:only-of-type {\n",
       "        vertical-align: middle;\n",
       "    }\n",
       "\n",
       "    .dataframe tbody tr th {\n",
       "        vertical-align: top;\n",
       "    }\n",
       "\n",
       "    .dataframe thead th {\n",
       "        text-align: right;\n",
       "    }\n",
       "</style>\n",
       "<table border=\"1\" class=\"dataframe\">\n",
       "  <thead>\n",
       "    <tr style=\"text-align: right;\">\n",
       "      <th></th>\n",
       "      <th>key</th>\n",
       "      <th>filename</th>\n",
       "      <th>normalized_text</th>\n",
       "      <th>predicted_group</th>\n",
       "    </tr>\n",
       "  </thead>\n",
       "  <tbody>\n",
       "    <tr>\n",
       "      <th>40</th>\n",
       "      <td>40</td>\n",
       "      <td>jiTmYb7pPM.7937506604855339.txt</td>\n",
       "      <td>NaN</td>\n",
       "      <td>NaN</td>\n",
       "    </tr>\n",
       "    <tr>\n",
       "      <th>41</th>\n",
       "      <td>41</td>\n",
       "      <td>juE9npQetZ.5163804793372522.txt</td>\n",
       "      <td>JavaScript is not available We ve detected tha...</td>\n",
       "      <td>0.0</td>\n",
       "    </tr>\n",
       "    <tr>\n",
       "      <th>42</th>\n",
       "      <td>42</td>\n",
       "      <td>kr2ybHdzaR.9232864911517599.txt</td>\n",
       "      <td>JavaScript is not available We ve detected tha...</td>\n",
       "      <td>0.0</td>\n",
       "    </tr>\n",
       "    <tr>\n",
       "      <th>43</th>\n",
       "      <td>43</td>\n",
       "      <td>lDgbs8m1tf.08676825930990162.txt</td>\n",
       "      <td>JavaScript is not available We ve detected tha...</td>\n",
       "      <td>0.0</td>\n",
       "    </tr>\n",
       "    <tr>\n",
       "      <th>44</th>\n",
       "      <td>44</td>\n",
       "      <td>lR1GLF0dl3.9833018883394823.txt</td>\n",
       "      <td>JavaScript is not available We ve detected tha...</td>\n",
       "      <td>1.0</td>\n",
       "    </tr>\n",
       "    <tr>\n",
       "      <th>45</th>\n",
       "      <td>45</td>\n",
       "      <td>lZdgCU6d1U.12307985178981151.txt</td>\n",
       "      <td>News News Local News Crime Public Safety Your ...</td>\n",
       "      <td>1.0</td>\n",
       "    </tr>\n",
       "    <tr>\n",
       "      <th>46</th>\n",
       "      <td>46</td>\n",
       "      <td>lsKjqDEeir.4889217778570776.txt</td>\n",
       "      <td>JavaScript is not available We ve detected tha...</td>\n",
       "      <td>0.0</td>\n",
       "    </tr>\n",
       "    <tr>\n",
       "      <th>47</th>\n",
       "      <td>47</td>\n",
       "      <td>m0xVYqvN8d.7758863033939478.txt</td>\n",
       "      <td>Skip to main content NFL News NFL Draft NFL Ti...</td>\n",
       "      <td>1.0</td>\n",
       "    </tr>\n",
       "    <tr>\n",
       "      <th>48</th>\n",
       "      <td>48</td>\n",
       "      <td>npow2gShDJ.7019849575646654.txt</td>\n",
       "      <td>JavaScript is not available We ve detected tha...</td>\n",
       "      <td>0.0</td>\n",
       "    </tr>\n",
       "    <tr>\n",
       "      <th>49</th>\n",
       "      <td>49</td>\n",
       "      <td>p8IbJYSXxE.22562450196421968.txt</td>\n",
       "      <td>JavaScript is not available We ve detected tha...</td>\n",
       "      <td>0.0</td>\n",
       "    </tr>\n",
       "    <tr>\n",
       "      <th>50</th>\n",
       "      <td>50</td>\n",
       "      <td>rxt3ocjppG.7973298407205462.txt</td>\n",
       "      <td>Skip to main content NFL News NFL Draft NFL Ti...</td>\n",
       "      <td>1.0</td>\n",
       "    </tr>\n",
       "    <tr>\n",
       "      <th>51</th>\n",
       "      <td>51</td>\n",
       "      <td>sGN3CBtN8o.35422772005643977.txt</td>\n",
       "      <td>Skip to main content NFL News NFL Draft NFL Ti...</td>\n",
       "      <td>0.0</td>\n",
       "    </tr>\n",
       "    <tr>\n",
       "      <th>52</th>\n",
       "      <td>52</td>\n",
       "      <td>sHMzQdloFS.2681163681335329.txt</td>\n",
       "      <td>JavaScript is not available We ve detected tha...</td>\n",
       "      <td>1.0</td>\n",
       "    </tr>\n",
       "    <tr>\n",
       "      <th>53</th>\n",
       "      <td>53</td>\n",
       "      <td>tiMS4ch5zy.0033628833141092773.txt</td>\n",
       "      <td>JavaScript is not available We ve detected tha...</td>\n",
       "      <td>0.0</td>\n",
       "    </tr>\n",
       "    <tr>\n",
       "      <th>54</th>\n",
       "      <td>54</td>\n",
       "      <td>vNPTbjqdSJ.7197300852931762.txt</td>\n",
       "      <td>Skip to main content NFL News NFL Draft NFL Ti...</td>\n",
       "      <td>0.0</td>\n",
       "    </tr>\n",
       "    <tr>\n",
       "      <th>55</th>\n",
       "      <td>55</td>\n",
       "      <td>vPSU9hwW5E.2173308100445802.txt</td>\n",
       "      <td>NRL AFL Cricket NBA Boxing MMA Football Rugby ...</td>\n",
       "      <td>1.0</td>\n",
       "    </tr>\n",
       "    <tr>\n",
       "      <th>56</th>\n",
       "      <td>56</td>\n",
       "      <td>wZyhwhK1Oa.6182611089275415.txt</td>\n",
       "      <td>Skip to main content NFL News NFL Draft NFL Ti...</td>\n",
       "      <td>1.0</td>\n",
       "    </tr>\n",
       "    <tr>\n",
       "      <th>57</th>\n",
       "      <td>57</td>\n",
       "      <td>ySljWqQVmz.9326708723080476.txt</td>\n",
       "      <td>JavaScript is not available We ve detected tha...</td>\n",
       "      <td>0.0</td>\n",
       "    </tr>\n",
       "    <tr>\n",
       "      <th>58</th>\n",
       "      <td>58</td>\n",
       "      <td>ygDG6ZzZ8T.25798542132023394.txt</td>\n",
       "      <td>JavaScript is not available We ve detected tha...</td>\n",
       "      <td>0.0</td>\n",
       "    </tr>\n",
       "    <tr>\n",
       "      <th>59</th>\n",
       "      <td>59</td>\n",
       "      <td>z6qfxfW6F4.4237818575016189.txt</td>\n",
       "      <td>Skip to main content NFL News NFL Draft NFL Ti...</td>\n",
       "      <td>0.0</td>\n",
       "    </tr>\n",
       "    <tr>\n",
       "      <th>60</th>\n",
       "      <td>60</td>\n",
       "      <td>zu5R84I8ST.7841470681049597.txt</td>\n",
       "      <td>JavaScript is not available We ve detected tha...</td>\n",
       "      <td>0.0</td>\n",
       "    </tr>\n",
       "  </tbody>\n",
       "</table>\n",
       "</div>"
      ],
      "text/plain": [
       "    key                            filename  \\\n",
       "40   40     jiTmYb7pPM.7937506604855339.txt   \n",
       "41   41     juE9npQetZ.5163804793372522.txt   \n",
       "42   42     kr2ybHdzaR.9232864911517599.txt   \n",
       "43   43    lDgbs8m1tf.08676825930990162.txt   \n",
       "44   44     lR1GLF0dl3.9833018883394823.txt   \n",
       "45   45    lZdgCU6d1U.12307985178981151.txt   \n",
       "46   46     lsKjqDEeir.4889217778570776.txt   \n",
       "47   47     m0xVYqvN8d.7758863033939478.txt   \n",
       "48   48     npow2gShDJ.7019849575646654.txt   \n",
       "49   49    p8IbJYSXxE.22562450196421968.txt   \n",
       "50   50     rxt3ocjppG.7973298407205462.txt   \n",
       "51   51    sGN3CBtN8o.35422772005643977.txt   \n",
       "52   52     sHMzQdloFS.2681163681335329.txt   \n",
       "53   53  tiMS4ch5zy.0033628833141092773.txt   \n",
       "54   54     vNPTbjqdSJ.7197300852931762.txt   \n",
       "55   55     vPSU9hwW5E.2173308100445802.txt   \n",
       "56   56     wZyhwhK1Oa.6182611089275415.txt   \n",
       "57   57     ySljWqQVmz.9326708723080476.txt   \n",
       "58   58    ygDG6ZzZ8T.25798542132023394.txt   \n",
       "59   59     z6qfxfW6F4.4237818575016189.txt   \n",
       "60   60     zu5R84I8ST.7841470681049597.txt   \n",
       "\n",
       "                                      normalized_text  predicted_group  \n",
       "40                                                NaN              NaN  \n",
       "41  JavaScript is not available We ve detected tha...              0.0  \n",
       "42  JavaScript is not available We ve detected tha...              0.0  \n",
       "43  JavaScript is not available We ve detected tha...              0.0  \n",
       "44  JavaScript is not available We ve detected tha...              1.0  \n",
       "45  News News Local News Crime Public Safety Your ...              1.0  \n",
       "46  JavaScript is not available We ve detected tha...              0.0  \n",
       "47  Skip to main content NFL News NFL Draft NFL Ti...              1.0  \n",
       "48  JavaScript is not available We ve detected tha...              0.0  \n",
       "49  JavaScript is not available We ve detected tha...              0.0  \n",
       "50  Skip to main content NFL News NFL Draft NFL Ti...              1.0  \n",
       "51  Skip to main content NFL News NFL Draft NFL Ti...              0.0  \n",
       "52  JavaScript is not available We ve detected tha...              1.0  \n",
       "53  JavaScript is not available We ve detected tha...              0.0  \n",
       "54  Skip to main content NFL News NFL Draft NFL Ti...              0.0  \n",
       "55  NRL AFL Cricket NBA Boxing MMA Football Rugby ...              1.0  \n",
       "56  Skip to main content NFL News NFL Draft NFL Ti...              1.0  \n",
       "57  JavaScript is not available We ve detected tha...              0.0  \n",
       "58  JavaScript is not available We ve detected tha...              0.0  \n",
       "59  Skip to main content NFL News NFL Draft NFL Ti...              0.0  \n",
       "60  JavaScript is not available We ve detected tha...              0.0  "
      ]
     },
     "execution_count": 119,
     "metadata": {},
     "output_type": "execute_result"
    }
   ],
   "source": [
    "test_key_df"
   ]
  },
  {
   "cell_type": "code",
   "execution_count": 72,
   "id": "f469257e",
   "metadata": {},
   "outputs": [
    {
     "data": {
      "text/plain": [
       "1"
      ]
     },
     "execution_count": 72,
     "metadata": {},
     "output_type": "execute_result"
    }
   ],
   "source": [
    "len(key_df[1:2]['normalized_text']"
   ]
  },
  {
   "cell_type": "code",
   "execution_count": 80,
   "id": "ad87d3ca",
   "metadata": {},
   "outputs": [],
   "source": [
    "key_df.to_csv('test_dataset.csv')"
   ]
  },
  {
   "cell_type": "code",
   "execution_count": null,
   "id": "40df4d05",
   "metadata": {},
   "outputs": [],
   "source": []
  },
  {
   "cell_type": "code",
   "execution_count": 2,
   "id": "80ec5490",
   "metadata": {},
   "outputs": [],
   "source": [
    "from nltk.corpus.reader.plaintext import PlaintextCorpusReader\n",
    "from nltk.tokenize import word_tokenize\n",
    "from nltk import FreqDist\n",
    "from nltk.corpus import stopwords\n",
    "from collections import Counter"
   ]
  },
  {
   "cell_type": "code",
   "execution_count": 57,
   "id": "3de09850",
   "metadata": {},
   "outputs": [],
   "source": [
    "corpuspath = 'D:\\\\Personal\\\\Msc\\\\CMM706 Text Analytics\\\\Coursework\\\\unclean_text_data_test\\\\'\n",
    "corpus = PlaintextCorpusReader(corpuspath, '.*' , )"
   ]
  },
  {
   "cell_type": "code",
   "execution_count": 58,
   "id": "8f98f3a2",
   "metadata": {},
   "outputs": [],
   "source": [
    "train_list = list(set(corpus.fileids())) # get unique file list (This dodent apply in real data files)"
   ]
  },
  {
   "cell_type": "code",
   "execution_count": 59,
   "id": "c6fd81cc",
   "metadata": {},
   "outputs": [
    {
     "data": {
      "text/plain": [
       "61"
      ]
     },
     "execution_count": 59,
     "metadata": {},
     "output_type": "execute_result"
    }
   ],
   "source": [
    "len(train_list)"
   ]
  },
  {
   "cell_type": "code",
   "execution_count": 60,
   "id": "85090fbb",
   "metadata": {},
   "outputs": [],
   "source": [
    "import random\n",
    "test_file_name_list = list(set(random.choices(files_list, k=20))"
   ]
  },
  {
   "cell_type": "code",
   "execution_count": 62,
   "id": "fdb0d64d",
   "metadata": {},
   "outputs": [
    {
     "data": {
      "text/plain": [
       "list"
      ]
     },
     "execution_count": 62,
     "metadata": {},
     "output_type": "execute_result"
    }
   ],
   "source": [
    "for filename in test_list:\n",
    "    print(filename)\n",
    "    train_list.remove(filename)"
   ]
  },
  {
   "cell_type": "code",
   "execution_count": 63,
   "id": "a88e583c",
   "metadata": {},
   "outputs": [
    {
     "name": "stdout",
     "output_type": "stream",
     "text": [
      "2/lR1GLF0dl3.9833018883394823.txt\n",
      "1/Jr1jDrrbqy.19224090056998133.txt\n",
      "2/h8deBWDHFu.15330512422735665.txt\n",
      "2/MxfyEFwodh.6291880775265848.txt\n",
      "3/kr2ybHdzaR.9232864911517599.txt\n",
      "3/Zou9I67X0r.22250236429049453.txt\n",
      "3/lDgbs8m1tf.08676825930990162.txt\n",
      "1/AshZjMudhh.05641859642807312.txt\n",
      "3/99xzhtXoQO.8203288815364953.txt\n",
      "3/juE9npQetZ.5163804793372522.txt\n",
      "3/3B9wLEPpb4.11331682998371562.txt\n",
      "3/DhR4Azo32a.4717029879255846.txt\n",
      "3/3KF0FrO05V.7702580431456981.txt\n",
      "3/Biq3eTMrTJ.9033166229586829.txt\n",
      "3/RkhD6dTdiE.6111538098809065.txt\n",
      "2/rxt3ocjppG.7973298407205462.txt\n",
      "1/R0IAlteJhG.7059206210470494.txt\n",
      "1/g0uT3UYPDH.787621649546468.txt\n"
     ]
    }
   ],
   "source": [
    "traintrain_list"
   ]
  },
  {
   "cell_type": "code",
   "execution_count": 64,
   "id": "af9f75f1",
   "metadata": {},
   "outputs": [
    {
     "data": {
      "text/plain": [
       "43"
      ]
     },
     "execution_count": 64,
     "metadata": {},
     "output_type": "execute_result"
    }
   ],
   "source": [
    "len(train_list)"
   ]
  },
  {
   "cell_type": "code",
   "execution_count": 65,
   "id": "c4a2bc18",
   "metadata": {},
   "outputs": [
    {
     "data": {
      "text/plain": [
       "18"
      ]
     },
     "execution_count": 65,
     "metadata": {},
     "output_type": "execute_result"
    }
   ],
   "source": [
    "len(test_file_name_list)"
   ]
  },
  {
   "cell_type": "code",
   "execution_count": 67,
   "id": "883df3c2",
   "metadata": {},
   "outputs": [],
   "source": [
    "import pandas as pd\n",
    "testFileNameDF = pd.DataFrame(list(dict.fromkeys(test_list)))"
   ]
  },
  {
   "cell_type": "code",
   "execution_count": 71,
   "id": "f28fd713",
   "metadata": {},
   "outputs": [],
   "source": [
    "#testFileNameDF.to_csv('D:\\\\Personal\\\\Msc\\\\CMM706 Text Analytics\\\\Coursework\\\\\\datasets\\\\test_file_names.csv', index=None)"
   ]
  },
  {
   "cell_type": "code",
   "execution_count": 72,
   "id": "88d8ea39",
   "metadata": {},
   "outputs": [],
   "source": [
    "# test_file_names = pd.read_csv('D:\\\\Personal\\\\Msc\\\\CMM706 Text Analytics\\\\Coursework\\\\\\datasets\\\\test_file_names.csv')"
   ]
  },
  {
   "cell_type": "code",
   "execution_count": 79,
   "id": "e31447e0",
   "metadata": {},
   "outputs": [],
   "source": [
    "# Mannualy Copy files from clean_text_data dir to final_train_data dir\n",
    "# Removing randomly generated files from final_train_data to final_test_data dir\n",
    "# file_source = 'D:\\\\Personal\\\\Msc\\\\CMM706 Text Analytics\\\\Coursework\\\\datasets\\\\final_train_data\\\\'\n",
    "file_source = 'D:\\\\Personal\\\\Msc\\\\CMM706 Text Analytics\\\\Coursework\\\\unclean_text_data_test\\\\'\n",
    "file_destination = 'D:\\\\Personal\\\\Msc\\\\CMM706 Text Analytics\\\\Coursework\\\\datasets\\\\final_test_data\\\\'"
   ]
  },
  {
   "cell_type": "code",
   "execution_count": 76,
   "id": "ee593686",
   "metadata": {},
   "outputs": [],
   "source": [
    "test_file_name_list = test_file_names['0'].to_list()"
   ]
  },
  {
   "cell_type": "code",
   "execution_count": 80,
   "id": "a4adfcf2",
   "metadata": {},
   "outputs": [],
   "source": [
    "import shutil\n",
    "import os\n",
    "for file in test_file_name_list:\n",
    "    shutil.move(file_source + file, file_destination)"
   ]
  },
  {
   "cell_type": "code",
   "execution_count": null,
   "id": "4ce0378d",
   "metadata": {},
   "outputs": [],
   "source": [
    "kmeanModel, clusters = k_means(feature_matrix=train_feature_matrix, num_clusters=3)"
   ]
  },
  {
   "cell_type": "code",
   "execution_count": 82,
   "id": "bf5c0b3d",
   "metadata": {},
   "outputs": [],
   "source": [
    "from numpy import save"
   ]
  },
  {
   "cell_type": "code",
   "execution_count": null,
   "id": "fc8ac0e6",
   "metadata": {},
   "outputs": [],
   "source": []
  }
 ],
 "metadata": {
  "kernelspec": {
   "display_name": "Python 3 (ipykernel)",
   "language": "python",
   "name": "python3"
  },
  "language_info": {
   "codemirror_mode": {
    "name": "ipython",
    "version": 3
   },
   "file_extension": ".py",
   "mimetype": "text/x-python",
   "name": "python",
   "nbconvert_exporter": "python",
   "pygments_lexer": "ipython3",
   "version": "3.10.4"
  }
 },
 "nbformat": 4,
 "nbformat_minor": 5
}
