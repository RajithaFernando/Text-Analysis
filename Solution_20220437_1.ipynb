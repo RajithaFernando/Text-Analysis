{
 "cells": [
  {
   "attachments": {},
   "cell_type": "markdown",
   "id": "3f684e49",
   "metadata": {},
   "source": [
    "### Text Analytics Coursework - MSc in Big Data Analytics\n",
    "#### July 2022\n",
    "\n",
    "###### Name: W. I. A. R. P. Fernando (Anthony Warnakulasooriya Ichcnampullege)\n",
    "###### IIT ID: 20220437\n",
    "###### RGU ID: 2122296"
   ]
  },
  {
   "cell_type": "markdown",
   "id": "f6001590",
   "metadata": {},
   "source": [
    "### Answer (a)\n",
    "\n",
    "Explain how data was collected..."
   ]
  },
  {
   "cell_type": "code",
   "execution_count": null,
   "id": "45dac142",
   "metadata": {},
   "outputs": [],
   "source": []
  }
 ],
 "metadata": {
  "kernelspec": {
   "display_name": "Python 3 (ipykernel)",
   "language": "python",
   "name": "python3"
  },
  "language_info": {
   "codemirror_mode": {
    "name": "ipython",
    "version": 3
   },
   "file_extension": ".py",
   "mimetype": "text/x-python",
   "name": "python",
   "nbconvert_exporter": "python",
   "pygments_lexer": "ipython3",
   "version": "3.9.12"
  }
 },
 "nbformat": 4,
 "nbformat_minor": 5
}
