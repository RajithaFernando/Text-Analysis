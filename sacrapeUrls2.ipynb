{
 "cells": [
  {
   "cell_type": "code",
   "execution_count": 1,
   "id": "dc6e6468",
   "metadata": {},
   "outputs": [],
   "source": [
    "import pandas as pd\n",
    "URLS_ALL = pd.read_csv('URLS.csv')\n",
    "URLS = URLS_ALL[19001:20000]"
   ]
  },
  {
   "cell_type": "code",
   "execution_count": null,
   "id": "26e7720d",
   "metadata": {},
   "outputs": [],
   "source": []
  },
  {
   "cell_type": "code",
   "execution_count": 3,
   "id": "418cc6e2",
   "metadata": {},
   "outputs": [],
   "source": [
    "# URLS"
   ]
  },
  {
   "cell_type": "code",
   "execution_count": 4,
   "id": "7b5447f0",
   "metadata": {},
   "outputs": [],
   "source": [
    "# "
   ]
  },
  {
   "cell_type": "code",
   "execution_count": 5,
   "id": "982ce29e",
   "metadata": {},
   "outputs": [],
   "source": [
    "import time"
   ]
  },
  {
   "cell_type": "code",
   "execution_count": 6,
   "id": "97a45283",
   "metadata": {},
   "outputs": [],
   "source": [
    "# Extracting text From Url\n",
    "import re\n",
    "import urllib.request\n",
    "import requests\n",
    "from bs4 import BeautifulSoup as bs\n",
    "from bs4.element import Comment\n",
    "\n",
    "# # Below function will remove all tags and extract only the visibal text\n",
    "def tag_visible(element):\n",
    "    if element.parent.name in ['style', 'script', 'head', 'title', 'meta', '[document]']:\n",
    "        return False\n",
    "    if isinstance(element, Comment):\n",
    "        return False\n",
    "    return True\n",
    "user_agent = 'Mozilla/5.0 (Windows; U; Windows NT 5.1; en-US; rv:1.9.0.7) Gecko/2009021910 Firefox/3.0.7'\n",
    "headers={'User-Agent':user_agent,} \n",
    "\n",
    "def text_from_html(url):\n",
    "    #body = urllib.request.urlopen(url, None, headers).read()\n",
    "    #soup = bs(body, 'html.parser')\n",
    "    try:\n",
    "        page = requests.get(url, timeout=3)\n",
    "        html = page.content\n",
    "        soup = bs(html, 'html.parser')\n",
    "        texts = soup.findAll(text=True)\n",
    "        visible_texts = filter(tag_visible, texts)  \n",
    "        unclean_text = u\" \".join(t.strip() for t in visible_texts)\n",
    "        return unclean_text\n",
    "    \n",
    "    except Exception as e:\n",
    "        f = open(\"ErrorURLS3.txt\", \"a\")\n",
    "        f.write(url + '\\n')\n",
    "        f.close()\n",
    "        return ' '\n",
    "        \n",
    "\n",
    "# Saving uncleand text from news item \n",
    "from random import random\n",
    "uncleanpath = 'D:\\\\Personal\\\\Msc\\\\CMM706 Text Analytics\\\\Coursework\\\\unclean_text_data\\\\'\n",
    "# This function does not return anything Scrape text from URLs\n",
    "def get_text_from_urls():\n",
    "    for url in URLS['0']:\n",
    "        time.sleep(5)\n",
    "        text= text_from_html(url)\n",
    "        # Appending a random number to file name \n",
    "        filename = url.split('/')[-1] + '.'+str(random()).split('.')[-1] + '.txt'\n",
    "        filepath = uncleanpath + filename\n",
    "        with open(filepath, 'w', encoding=\"utf-8\") as file:\n",
    "            file.write(text)\n",
    "        #print(text[1:100])\n",
    "get_text_from_urls()   \n",
    "# final token used : b26v89c19zqg8o3fpywmwng06j9bcillmq1rkyddh17r1"
   ]
  },
  {
   "cell_type": "code",
   "execution_count": null,
   "id": "198fc4b0",
   "metadata": {},
   "outputs": [],
   "source": []
  },
  {
   "cell_type": "code",
   "execution_count": null,
   "id": "ae6c5edd",
   "metadata": {},
   "outputs": [],
   "source": []
  },
  {
   "cell_type": "code",
   "execution_count": null,
   "id": "d8b69e75",
   "metadata": {},
   "outputs": [],
   "source": []
  },
  {
   "cell_type": "code",
   "execution_count": null,
   "id": "a016704c",
   "metadata": {},
   "outputs": [],
   "source": []
  },
  {
   "cell_type": "code",
   "execution_count": null,
   "id": "3efea6f3",
   "metadata": {},
   "outputs": [],
   "source": []
  },
  {
   "cell_type": "code",
   "execution_count": null,
   "id": "a3376dfb",
   "metadata": {},
   "outputs": [],
   "source": []
  }
 ],
 "metadata": {
  "kernelspec": {
   "display_name": "Python 3 (ipykernel)",
   "language": "python",
   "name": "python3"
  },
  "language_info": {
   "codemirror_mode": {
    "name": "ipython",
    "version": 3
   },
   "file_extension": ".py",
   "mimetype": "text/x-python",
   "name": "python",
   "nbconvert_exporter": "python",
   "pygments_lexer": "ipython3",
   "version": "3.10.4"
  }
 },
 "nbformat": 4,
 "nbformat_minor": 5
}
